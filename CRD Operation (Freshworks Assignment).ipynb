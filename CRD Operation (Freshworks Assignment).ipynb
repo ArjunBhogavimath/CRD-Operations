{
 "cells": [
  {
   "cell_type": "code",
   "execution_count": 48,
   "metadata": {},
   "outputs": [],
   "source": [
    "import threading \n",
    "from threading import*\n",
    "import time\n",
    "\n",
    "#\"\"I use Dictionary here because Python automatically converts json data to Python dictionary\"\"\n",
    "d={} #'d' is the dictionary where we store the library data\n",
    "# the data will be stores as key is book name and its value is number of units of book in library\n",
    "\n",
    "#for create operation \n",
    "#use syntax \"create(key_name,value,timeout_value)\" timeout is optional you can continue by passing two arguments without timeout\n",
    "\n",
    "def create(key,value,timeout=0):\n",
    "    if key in d:\n",
    "        print(\"error: this key already exists\") #error message1\n",
    "    else:\n",
    "        if(key.isalpha()):\n",
    "            if len(d)<(1024*1020*1024) and value<=(16*1024*1024): #constraints for file size less than 1GB and Jasonobject value less than 16KB \n",
    "                if timeout==0:\n",
    "                    l=[value,timeout]\n",
    "                    print(\"Key is successfully Created\")#key created message\n",
    "                else:\n",
    "                    l=[value,time.time()+timeout]\n",
    "                if len(key)<=32: #constraints for input key_name capped at 32chars\n",
    "                    d[key]=l\n",
    "                    print(\"Key is successfully Created\")#key created message\n",
    "                    \n",
    "            else:\n",
    "                print(\"error: Memory limit exceeded!! \")#error message2\n",
    "        else:\n",
    "            print(\"error:Invalind key_name! key_name must contain only alphabets and no special characters or numbers\")#error message3\n",
    "\n",
    "#for read operation\n",
    "#use syntax \"read(key_name)\"\n",
    "            \n",
    "def read(key):\n",
    "    if key not in d:\n",
    "        print(\"error: given key does not exist in database. Please enter a valid key\") #error message4\n",
    "    else:\n",
    "        b=d[key]\n",
    "        if b[1]!=0:\n",
    "            if time.time()<b[1]: #comparing the present time with expiry time\n",
    "                stri=str(key)+\":\"+str(b[0]) #to return the value in the format of JasonObject i.e.,\"key_name:value\"\n",
    "                return stri\n",
    "            else:\n",
    "                print(\"error: time-to-live of\",key,\"has expired\") #error message5\n",
    "        else:\n",
    "            stri=str(key)+\":\"+str(b[0])\n",
    "            return stri\n",
    "\n",
    "#for delete operation\n",
    "#use syntax \"delete(key_name)\"\n",
    "\n",
    "def delete(key):\n",
    "    if key not in d:\n",
    "        print(\"error: given key does not exist in database. Please enter a valid key\") #error message4\n",
    "    else:\n",
    "        b=d[key]\n",
    "        if b[1]!=0:\n",
    "            if time.time()<b[1]: #comparing the current time with expiry time\n",
    "                del d[key]\n",
    "                print(\"key is successfully deleted\")\n",
    "            else:\n",
    "                print(\"error: time-to-live of\",key,\"has expired\") #error message5\n",
    "        else:\n",
    "            del d[key]\n",
    "            print(\"key is successfully deleted\")\n",
    "            \n",
    "#I have added mmodify opeartion to modify the existing key\n",
    "#for modify operation \n",
    "#use syntax \"modify(key_name,new_value)\"\n",
    "\n",
    "def modify(key,value):\n",
    "    b=d[key]\n",
    "    if b[1]!=0:\n",
    "        if time.time()<b[1]:\n",
    "            if key not in d:\n",
    "                print(\"error: given key does not exist in database. Please enter a valid key\") #error message6\n",
    "            else:\n",
    "                l=[]\n",
    "                l.append(value)\n",
    "                l.append(b[1])\n",
    "                d[key]=l\n",
    "                print(\"The given key is modified\")\n",
    "        else:\n",
    "            print(\"error: time-to-live of\",key,\"has expired\") #error message5\n",
    "    else:\n",
    "        if key not in d:\n",
    "            print(\"error: given key does not exist in database. Please enter a valid key\") #error message6\n",
    "        else:\n",
    "            l=[]\n",
    "            l.append(value)\n",
    "            l.append(b[1])\n",
    "            d[key]=l\n",
    "            print(\"The given key is modified\")\n",
    "\n",
    "#We can access them by multiple threads\n",
    "t1=Thread(target=(create or read or delete),args=(key_name,value,timeout)) #as per the operation\n",
    "t1.start()\n",
    "t1.sleep()\n",
    "t2=Thread(target=(create or read or delete),args=(key_name,value,timeout)) #as per the operation\n",
    "t2.start()\n",
    "t2.sleep()"
   ]
  },
  {
   "cell_type": "code",
   "execution_count": 54,
   "metadata": {},
   "outputs": [
    {
     "name": "stdout",
     "output_type": "stream",
     "text": [
      "Welcome to Library database:\n",
      "Please Choose the Operations you want to create in the Library\n",
      "The Availbale Operations are 1.Create[For Crearting key(Book name) & value(Number of book units)],\n",
      " 2.Read[To print out the value by using key],\n",
      " 3.Delete[To Completely delete the key and value by entering key name],\n",
      " 4.Modify[To change the value of a existing key]\n",
      "\n",
      "error:Invalind key_name! key_name must contain only alphabets and no special characters or numbers\n",
      "Key is successfully Created\n",
      "error: given key does not exist in database. Please enter a valid key\n",
      "error: this key already exists\n",
      "The given key is modified\n",
      "key is successfully deleted\n"
     ]
    }
   ],
   "source": [
    "print(\"Welcome to Library database:\")\n",
    "print(\"Please Choose the Operations you want to create in the Library\")\n",
    "print(\"The Availbale Operations are 1.Create[For Crearting key(Book name) & value(Number of book units)],\\n 2.Read[To print out the value by using key],\\n 3.Delete[To Completely delete the key and value by entering key name],\\n 4.Modify[To change the value of a existing key]\\n\")\n",
    "create(\"Book-1\",8)\n",
    "#to create a key with key_name,value given and with no time-to-live property\n",
    "\n",
    "create(\"Networking\",4,3600) \n",
    "#to create a key with key_name,value given and with time-to-live property value given(number of seconds)\n",
    "\n",
    "\n",
    "read(\"Networking\")\n",
    "#it returns the value of the respective key in Jasonobject format 'key_name:value'\n",
    "\n",
    "\n",
    "read(\"Book-1\")\n",
    "#it returns the value of the respective key in Jasonobject format if the TIME-TO-LIVE IS NOT EXPIRED else it returns an ERROR\n",
    "\n",
    "\n",
    "create(\"Networking\",51)\n",
    "#it returns an ERROR since the key_name already exists in the database\n",
    "#To overcome this error \n",
    "#either use modify operation to change the value of a key\n",
    "#or use delete operation and recreate it\n",
    "\n",
    "\n",
    "modify(\"Networking\",55)\n",
    "#it replaces the initial value of the respective key with new value \n",
    "\n",
    " \n",
    "delete(\"Networking\")\n",
    "#it deletes the respective key and its value from the database(memory is also freed)\n",
    "\n"
   ]
  },
  {
   "cell_type": "code",
   "execution_count": 55,
   "metadata": {},
   "outputs": [
    {
     "name": "stdout",
     "output_type": "stream",
     "text": [
      "error:Invalind key_name! key_name must contain only alphabets and no special characters or numbers\n"
     ]
    }
   ],
   "source": [
    "create(\"Book-2\",8)\n"
   ]
  },
  {
   "cell_type": "code",
   "execution_count": 56,
   "metadata": {},
   "outputs": [
    {
     "name": "stdout",
     "output_type": "stream",
     "text": [
      "Key is successfully Created\n"
     ]
    }
   ],
   "source": [
    "create(\"ComputerNetworks\",4,3600)"
   ]
  },
  {
   "cell_type": "code",
   "execution_count": 57,
   "metadata": {},
   "outputs": [
    {
     "data": {
      "text/plain": [
       "'ComputerNetworks:4'"
      ]
     },
     "execution_count": 57,
     "metadata": {},
     "output_type": "execute_result"
    }
   ],
   "source": [
    "read(\"ComputerNetworks\")"
   ]
  },
  {
   "cell_type": "code",
   "execution_count": 58,
   "metadata": {},
   "outputs": [
    {
     "name": "stdout",
     "output_type": "stream",
     "text": [
      "error: given key does not exist in database. Please enter a valid key\n"
     ]
    }
   ],
   "source": [
    "read(\"Book-2\")"
   ]
  },
  {
   "cell_type": "code",
   "execution_count": 59,
   "metadata": {},
   "outputs": [
    {
     "name": "stdout",
     "output_type": "stream",
     "text": [
      "error: this key already exists\n"
     ]
    }
   ],
   "source": [
    "create(\"ComputerNetworks\",51)"
   ]
  },
  {
   "cell_type": "code",
   "execution_count": 60,
   "metadata": {},
   "outputs": [
    {
     "name": "stdout",
     "output_type": "stream",
     "text": [
      "The given key is modified\n"
     ]
    }
   ],
   "source": [
    "modify(\"ComputerNetworks\",55)"
   ]
  },
  {
   "cell_type": "code",
   "execution_count": 43,
   "metadata": {},
   "outputs": [
    {
     "name": "stdout",
     "output_type": "stream",
     "text": [
      "key is successfully deleted\n"
     ]
    }
   ],
   "source": [
    "delete(\"ComputerNetworks\")"
   ]
  },
  {
   "cell_type": "code",
   "execution_count": null,
   "metadata": {},
   "outputs": [],
   "source": []
  }
 ],
 "metadata": {
  "kernelspec": {
   "display_name": "Python 3",
   "language": "python",
   "name": "python3"
  },
  "language_info": {
   "codemirror_mode": {
    "name": "ipython",
    "version": 3
   },
   "file_extension": ".py",
   "mimetype": "text/x-python",
   "name": "python",
   "nbconvert_exporter": "python",
   "pygments_lexer": "ipython3",
   "version": "3.7.6"
  }
 },
 "nbformat": 4,
 "nbformat_minor": 4
}
